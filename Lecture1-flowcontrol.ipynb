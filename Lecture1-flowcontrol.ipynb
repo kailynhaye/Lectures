{
 "cells": [
  {
   "attachments": {},
   "cell_type": "markdown",
   "metadata": {},
   "source": [
    "<h1 style=\"text-align: center;\"> Python Syntax and Flow Controls </h1>"
   ]
  },
  {
   "cell_type": "code",
   "execution_count": 12,
   "metadata": {},
   "outputs": [
    {
     "name": "stdout",
     "output_type": "stream",
     "text": [
      "Float vallue: 3.80, int value: 3, string value Kailyn Haye\n"
     ]
    }
   ],
   "source": [
    "#In Python #'s are used for comments\n",
    "# Understanding the different datatypes\n",
    "variable_float = 3.8\n",
    "variable_int = 3\n",
    "variable_string = \"Kailyn Haye\"\n",
    "\n",
    "print(\"Float vallue: {0:.2f}, int value: {1:d}, string value {2:s}\"\n",
    ".format(variable_float, variable_int, variable_string))\n",
    "\n",
    "#0:.2f is how many digits we want to print\n",
    "#1:d is for integer value \n",
    "#2:s is for a string value\n",
    "\n",
    "#0,1,2 is the position of the value and then the type. These must match to the specific data types given in the format \n",
    "#or it will result in an error"
   ]
  },
  {
   "attachments": {},
   "cell_type": "markdown",
   "metadata": {},
   "source": [
    "<h2 style=\"text-align: center;\"> Quadratic Functions of form y=ax^2+bx+c </h2>"
   ]
  },
  {
   "cell_type": "code",
   "execution_count": 13,
   "metadata": {},
   "outputs": [],
   "source": [
    "#how to import matlab libraries and begin to import them into Jupyter notebok\n",
    "#key word is Import\n",
    "\n",
    "import math as math\n",
    "import matplotlib.pyplot as plt\n",
    "import numpy as np"
   ]
  },
  {
   "cell_type": "code",
   "execution_count": 14,
   "metadata": {},
   "outputs": [
    {
     "name": "stdout",
     "output_type": "stream",
     "text": [
      "Coefficients a,b, and c are: 1.00, 6.00, 2.00\n"
     ]
    }
   ],
   "source": [
    "# prompt the values for the coefficient a, b, and c\n",
    "\n",
    "a,b,c = input(\"Write the values of the coefficeint: \").split()\n",
    "#tag a,b,c at the same time so you need to split the vlaues \n",
    "a = float(a)\n",
    "b = float(b)\n",
    "c = float(c)\n",
    "\n",
    "print(\"Coefficients a,b, and c are: {0:.2f}, {1:.2f}, {2:.2f}\".format(a,b,c))\n"
   ]
  },
  {
   "cell_type": "code",
   "execution_count": 15,
   "metadata": {},
   "outputs": [
    {
     "name": "stdout",
     "output_type": "stream",
     "text": [
      "x-intercepts: (-0.354,0), (-5.646, 0)\n",
      "y-intercept:(0,2.000)\n"
     ]
    }
   ],
   "source": [
    "#Finding the x-intercepts\n",
    "#Will produce an error if value is a negative number\n",
    "root_1 = (-b+math.sqrt(math.pow(b,2)-4*a*c))/(2*a)\n",
    "root_2 = (-b-math.sqrt(math.pow(b,2)-4*a*c))/(2*a)\n",
    "\n",
    "print(\"x-intercepts: ({0:.3f},0), ({1:.3f}, 0)\".format(root_1, root_2))\n",
    "print(\"y-intercept:(0,{0:.3f})\".format(c))\n"
   ]
  },
  {
   "cell_type": "code",
   "execution_count": 16,
   "metadata": {},
   "outputs": [
    {
     "name": "stdout",
     "output_type": "stream",
     "text": [
      "x-intercepts: (-0.354,0), (-5.646, 0)\n"
     ]
    }
   ],
   "source": [
    "discriminant = math.pow(b,2)-4*a*c\n",
    "\n",
    "if(discriminant >= 0):\n",
    "    root_1 = (-b+math.sqrt(discriminant))/(2*a)\n",
    "    root_2 = (-b-math.sqrt(discriminant))/(2*a)\n",
    "    print(\"x-intercepts: ({0:.3f},0), ({1:.3f}, 0)\".format(root_1, root_2))\n",
    "else:\n",
    "    print(\"Quadraticc function does not have x-intercept\")\n"
   ]
  },
  {
   "cell_type": "code",
   "execution_count": 19,
   "metadata": {},
   "outputs": [
    {
     "name": "stdout",
     "output_type": "stream",
     "text": [
      "The vertex of your function is (-3.000, -7.000)\n"
     ]
    }
   ],
   "source": [
    "h = -b/(2*a)\n",
    "k = a*math.pow(h,2)+b*h+c\n",
    "print(\"The vertex of your function is ({0:.3f}, {1:.3f})\".format(h,k))"
   ]
  },
  {
   "cell_type": "code",
   "execution_count": 22,
   "metadata": {},
   "outputs": [
    {
     "ename": "ValueError",
     "evalue": "position should be 'center' or 2-tuple",
     "output_type": "error",
     "traceback": [
      "\u001b[0;31m---------------------------------------------------------------------------\u001b[0m",
      "\u001b[0;31mValueError\u001b[0m                                Traceback (most recent call last)",
      "Cell \u001b[0;32mIn[22], line 16\u001b[0m\n\u001b[1;32m     14\u001b[0m ax\u001b[39m.\u001b[39mspines[\u001b[39m'\u001b[39m\u001b[39mleft\u001b[39m\u001b[39m'\u001b[39m]\u001b[39m.\u001b[39mset_position(\u001b[39m\"\u001b[39m\u001b[39mcenter\u001b[39m\u001b[39m\"\u001b[39m)\n\u001b[1;32m     15\u001b[0m ax\u001b[39m.\u001b[39mspines[\u001b[39m'\u001b[39m\u001b[39mbottom\u001b[39m\u001b[39m'\u001b[39m]\u001b[39m.\u001b[39mset_position(\u001b[39m\"\u001b[39m\u001b[39mcenter\u001b[39m\u001b[39m\"\u001b[39m)\n\u001b[0;32m---> 16\u001b[0m ax\u001b[39m.\u001b[39;49mspines[\u001b[39m'\u001b[39;49m\u001b[39mright\u001b[39;49m\u001b[39m'\u001b[39;49m]\u001b[39m.\u001b[39;49mset_position(\u001b[39m\"\u001b[39;49m\u001b[39mnone\u001b[39;49m\u001b[39m\"\u001b[39;49m)\n\u001b[1;32m     17\u001b[0m ax\u001b[39m.\u001b[39mspines[\u001b[39m'\u001b[39m\u001b[39mtop\u001b[39m\u001b[39m'\u001b[39m]\u001b[39m.\u001b[39mset_color(\u001b[39m\"\u001b[39m\u001b[39mnone\u001b[39m\u001b[39m\"\u001b[39m)\n\u001b[1;32m     18\u001b[0m ax\u001b[39m.\u001b[39mxaxis\u001b[39m.\u001b[39mset_ticks_position(\u001b[39m\"\u001b[39m\u001b[39mbottom\u001b[39m\u001b[39m\"\u001b[39m)\n",
      "File \u001b[0;32m/Library/Frameworks/Python.framework/Versions/3.11/lib/python3.11/site-packages/matplotlib/spines.py:317\u001b[0m, in \u001b[0;36mSpine.set_position\u001b[0;34m(self, position)\u001b[0m\n\u001b[1;32m    315\u001b[0m \u001b[39melse\u001b[39;00m:\n\u001b[1;32m    316\u001b[0m     \u001b[39mif\u001b[39;00m \u001b[39mlen\u001b[39m(position) \u001b[39m!=\u001b[39m \u001b[39m2\u001b[39m:\n\u001b[0;32m--> 317\u001b[0m         \u001b[39mraise\u001b[39;00m \u001b[39mValueError\u001b[39;00m(\u001b[39m\"\u001b[39m\u001b[39mposition should be \u001b[39m\u001b[39m'\u001b[39m\u001b[39mcenter\u001b[39m\u001b[39m'\u001b[39m\u001b[39m or 2-tuple\u001b[39m\u001b[39m\"\u001b[39m)\n\u001b[1;32m    318\u001b[0m     \u001b[39mif\u001b[39;00m position[\u001b[39m0\u001b[39m] \u001b[39mnot\u001b[39;00m \u001b[39min\u001b[39;00m [\u001b[39m'\u001b[39m\u001b[39moutward\u001b[39m\u001b[39m'\u001b[39m, \u001b[39m'\u001b[39m\u001b[39maxes\u001b[39m\u001b[39m'\u001b[39m, \u001b[39m'\u001b[39m\u001b[39mdata\u001b[39m\u001b[39m'\u001b[39m]:\n\u001b[1;32m    319\u001b[0m         \u001b[39mraise\u001b[39;00m \u001b[39mValueError\u001b[39;00m(\u001b[39m\"\u001b[39m\u001b[39mposition[0] should be one of \u001b[39m\u001b[39m'\u001b[39m\u001b[39moutward\u001b[39m\u001b[39m'\u001b[39m\u001b[39m, \u001b[39m\u001b[39m\"\u001b[39m\n\u001b[1;32m    320\u001b[0m                          \u001b[39m\"\u001b[39m\u001b[39m'\u001b[39m\u001b[39maxes\u001b[39m\u001b[39m'\u001b[39m\u001b[39m, or \u001b[39m\u001b[39m'\u001b[39m\u001b[39mdata\u001b[39m\u001b[39m'\u001b[39m\u001b[39m \u001b[39m\u001b[39m\"\u001b[39m)\n",
      "\u001b[0;31mValueError\u001b[0m: position should be 'center' or 2-tuple"
     ]
    },
    {
     "data": {
      "image/png": "[encoded data removed]",
      "text/plain": [
       "<Figure size 640x480 with 1 Axes>"
      ]
     },
     "metadata": {},
     "output_type": "display_data"
    }
   ],
   "source": [
    "#Plot your function\n",
    "\n",
    "#define your x space\n",
    "x = np.linspace(-40, 40, 100)\n",
    "\n",
    "#define your quadratic function \n",
    "\n",
    "y = a*(x**2)+b*x+c\n",
    "# x**2 means x raised to the power of 2 or you can use math.pow(x,2)\n",
    "\n",
    "fig = plt.figure()\n",
    "ax = fig.add_subplot(1,1,1)\n",
    "#1 row, 1 columm, and the first figure\n",
    "ax.spines['left'].set_position(\"center\")\n",
    "ax.spines['bottom'].set_position(\"center\")\n",
    "ax.spines['right'].set_color(\"none\")\n",
    "ax.spines['top'].set_color(\"none\")\n",
    "ax.xaxis.set_ticks_position(\"bottom\")\n",
    "ax.yaxis.set_ticks_position(\"left\")\n",
    "\n",
    "plt.plot(x,y,'r')\n",
    "\n",
    "\n"
   ]
  }
 ],
 "metadata": {
  "kernelspec": {
   "display_name": "Python 3",
   "language": "python",
   "name": "python3"
  },
  "language_info": {
   "codemirror_mode": {
    "name": "ipython",
    "version": 3
   },
   "file_extension": ".py",
   "mimetype": "text/x-python",
   "name": "python",
   "nbconvert_exporter": "python",
   "pygments_lexer": "ipython3",
   "version": "3.11.3"
  },
  "orig_nbformat": 4
 },
 "nbformat": 4,
 "nbformat_minor": 2
}
